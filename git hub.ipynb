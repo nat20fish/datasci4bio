{
 "cells": [
  {
   "cell_type": "markdown",
   "id": "da932475-d74a-4875-9897-c1190977b0c0",
   "metadata": {},
   "source": [
    "1. Github allows developers to easily catalgoue and share open source code with each other.\n",
    "2. Version control is the practice of developers organizing and cataloguing different versions of a project depending on the changes they made to it.\n",
    "3. Github's branches and pull requests allow multiple people to easily propose changes and add them to a base project that they're working on. Having one single always up to data source for the project code everyone works on is good."
   ]
  }
 ],
 "metadata": {
  "kernelspec": {
   "display_name": "Python 3 (ipykernel)",
   "language": "python",
   "name": "python3"
  },
  "language_info": {
   "codemirror_mode": {
    "name": "ipython",
    "version": 3
   },
   "file_extension": ".py",
   "mimetype": "text/x-python",
   "name": "python",
   "nbconvert_exporter": "python",
   "pygments_lexer": "ipython3",
   "version": "3.12.5"
  }
 },
 "nbformat": 4,
 "nbformat_minor": 5
}
